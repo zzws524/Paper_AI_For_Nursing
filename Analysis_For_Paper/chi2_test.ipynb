{
 "cells": [
  {
   "cell_type": "markdown",
   "metadata": {},
   "source": [
    "Chi-Square Test for Independence\n",
    "\n",
    "Check if there is significant difference in performance among GPT models.\n",
    "\n",
    "- Significance Level ((\\alpha)): 0.05 (5%).  Confidence Level: 0.95 (95%)"
   ]
  },
  {
   "cell_type": "code",
   "execution_count": 1,
   "metadata": {},
   "outputs": [],
   "source": [
    "import numpy as np\n",
    "from scipy.stats import chi2, chi2_contingency"
   ]
  },
  {
   "cell_type": "markdown",
   "metadata": {},
   "source": [
    "Contingency table : \n",
    "|  | GPT 3.5 Turbo  | GPT 4 Turbo | GPT 4o |\n",
    "|------|-----|-----|-----|\n",
    "| Aligned With Nurses |  318  |  373  |  394  |\n",
    "| Different With Nurses   |  127  |  72  |  51  |\n",
    "| Column Total   |  445  |  445  |  445 |"
   ]
  },
  {
   "cell_type": "code",
   "execution_count": 2,
   "metadata": {},
   "outputs": [
    {
     "name": "stdout",
     "output_type": "stream",
     "text": [
      "chi2_score: 45.48597235023042\n",
      "P_value: 1.3269256893842978e-10\n",
      "df: 2\n",
      "expected_value_array: [[361.66666667 361.66666667 361.66666667]\n",
      " [ 83.33333333  83.33333333  83.33333333]]\n"
     ]
    }
   ],
   "source": [
    "obs = np.array([[318,373,394], [127,72, 51]])\n",
    "# normally use correction=True, which is Yates' correction for continuity\n",
    "# The effect of the correction is to adjust each observed value by 0.5 towards the corresponding expected value.\n",
    "chi2_score,P_value,df,expected_value_array = chi2_contingency(obs,correction=True)\n",
    "\n",
    "print(f'chi2_score: {chi2_score}')\n",
    "print(f'P_value: {P_value}')\n",
    "print(f'df: {df}')\n",
    "print(f'expected_value_array: {expected_value_array}')"
   ]
  },
  {
   "cell_type": "markdown",
   "metadata": {},
   "source": [
    "Get the critical value under 95% level of confidence, 2 degree of freedom"
   ]
  },
  {
   "cell_type": "code",
   "execution_count": 3,
   "metadata": {},
   "outputs": [
    {
     "name": "stdout",
     "output_type": "stream",
     "text": [
      "critical_value is used to compare chi2 value on the x-axis of the chart.\n",
      "critical_value (x-axis) of 0.95 (integral val is 0.95) is 5.991\n"
     ]
    }
   ],
   "source": [
    "critical_value = chi2.ppf(0.95,df= df)\n",
    "print('critical_value is used to compare chi2 value on the x-axis of the chart.')\n",
    "print(f'critical_value (x-axis) of 0.95 (integral val is 0.95) is {critical_value:.3f}')"
   ]
  },
  {
   "cell_type": "markdown",
   "metadata": {},
   "source": [
    "chi2 test, compare chi2_score with critical_value."
   ]
  },
  {
   "cell_type": "code",
   "execution_count": 4,
   "metadata": {},
   "outputs": [
    {
     "name": "stdout",
     "output_type": "stream",
     "text": [
      "Reject null hypothesis\n",
      "The two categorical variables are dependent. That means at least one GPT's performace differs from the others.\n"
     ]
    }
   ],
   "source": [
    "null_hypothesis = 'The two categorical variables are independent. That means the performances of GPT models are similar.'\n",
    "alternative_hypothesis = 'The two categorical variables are dependent. That means at least one GPT\\'s performace differs from the others.' \n",
    "\n",
    "if chi2_score > critical_value:\n",
    "    print('Reject null hypothesis')\n",
    "    print(alternative_hypothesis)\n",
    "else:\n",
    "    print('Accept null hypothesis')\n",
    "    print(null_hypothesis)"
   ]
  }
 ],
 "metadata": {
  "kernelspec": {
   "display_name": "py312",
   "language": "python",
   "name": "python3"
  },
  "language_info": {
   "codemirror_mode": {
    "name": "ipython",
    "version": 3
   },
   "file_extension": ".py",
   "mimetype": "text/x-python",
   "name": "python",
   "nbconvert_exporter": "python",
   "pygments_lexer": "ipython3",
   "version": "3.12.7"
  }
 },
 "nbformat": 4,
 "nbformat_minor": 2
}
